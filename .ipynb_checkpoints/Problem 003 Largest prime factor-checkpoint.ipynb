{
 "cells": [
  {
   "cell_type": "markdown",
   "id": "7d4e48b6",
   "metadata": {},
   "source": [
    "# Largest prime factor"
   ]
  },
  {
   "cell_type": "markdown",
   "id": "483e9503",
   "metadata": {},
   "source": [
    "The prime factors of 13195 are 5, 7, 13 and 29.\n",
    "\n",
    "What is the largest prime factor of the number 600851475143 ?"
   ]
  },
  {
   "cell_type": "code",
   "execution_count": 1,
   "id": "aa696c9a",
   "metadata": {},
   "outputs": [],
   "source": [
    "#this function would look for every single prime factor\n",
    "def primefactor(n):\n",
    "    a = []\n",
    "    f = 2\n",
    "    while n > 2:\n",
    "        if n%f == 0:\n",
    "            a.append(f)\n",
    "            n = n// f\n",
    "        else:\n",
    "            f+= 1\n",
    "    return a"
   ]
  },
  {
   "cell_type": "code",
   "execution_count": 2,
   "id": "fa183cfa",
   "metadata": {},
   "outputs": [
    {
     "data": {
      "text/plain": [
       "[71, 839, 1471, 6857]"
      ]
     },
     "execution_count": 2,
     "metadata": {},
     "output_type": "execute_result"
    }
   ],
   "source": [
    "primefactor(600851475143)"
   ]
  },
  {
   "cell_type": "code",
   "execution_count": null,
   "id": "39653c36",
   "metadata": {},
   "outputs": [],
   "source": []
  }
 ],
 "metadata": {
  "kernelspec": {
   "display_name": "Python 3 (ipykernel)",
   "language": "python",
   "name": "python3"
  },
  "language_info": {
   "codemirror_mode": {
    "name": "ipython",
    "version": 3
   },
   "file_extension": ".py",
   "mimetype": "text/x-python",
   "name": "python",
   "nbconvert_exporter": "python",
   "pygments_lexer": "ipython3",
   "version": "3.9.7"
  }
 },
 "nbformat": 4,
 "nbformat_minor": 5
}
