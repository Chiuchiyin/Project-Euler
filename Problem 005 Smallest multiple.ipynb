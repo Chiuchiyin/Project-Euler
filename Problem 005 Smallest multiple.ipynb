{
 "cells": [
  {
   "cell_type": "markdown",
   "id": "2955c02d",
   "metadata": {},
   "source": [
    "# Smallest multiple\n",
    "\n",
    "2520 is the smallest number that can be divided by each of the numbers from 1 to 10 without any remainder.\n",
    "\n",
    "What is the smallest positive number that is evenly divisible by all of the numbers from 1 to 20?"
   ]
  },
  {
   "cell_type": "markdown",
   "id": "dc398cac",
   "metadata": {},
   "source": [
    "### Calculator/Pencil and paper way"
   ]
  },
  {
   "cell_type": "markdown",
   "id": "b401d39e",
   "metadata": {},
   "source": [
    "List the numbers from 1 to 20 and factorize them\n"
   ]
  },
  {
   "cell_type": "code",
   "execution_count": null,
   "id": "a3583a74",
   "metadata": {},
   "outputs": [],
   "source": []
  }
 ],
 "metadata": {
  "kernelspec": {
   "display_name": "Python 3 (ipykernel)",
   "language": "python",
   "name": "python3"
  },
  "language_info": {
   "codemirror_mode": {
    "name": "ipython",
    "version": 3
   },
   "file_extension": ".py",
   "mimetype": "text/x-python",
   "name": "python",
   "nbconvert_exporter": "python",
   "pygments_lexer": "ipython3",
   "version": "3.9.7"
  }
 },
 "nbformat": 4,
 "nbformat_minor": 5
}
